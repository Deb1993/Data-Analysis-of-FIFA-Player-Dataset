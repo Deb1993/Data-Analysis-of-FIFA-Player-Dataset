{
 "cells": [
  {
   "cell_type": "markdown",
   "metadata": {},
   "source": [
    "## Feature selection"
   ]
  },
  {
   "cell_type": "code",
   "execution_count": 123,
   "metadata": {},
   "outputs": [
    {
     "data": {
      "text/plain": [
       "(360,)"
      ]
     },
     "execution_count": 123,
     "metadata": {},
     "output_type": "execute_result"
    }
   ],
   "source": [
    "# Libraries\n",
    "import matplotlib.pyplot as plt\n",
    "import pandas as pd\n",
    "import math\n",
    "import numpy as np\n",
    "import datetime as DT\n",
    "from sklearn import svm\n",
    "from sklearn import datasets, linear_model\n",
    "\n",
    "\n",
    "#read file\n",
    "df1 = pd.read_csv('players11.csv')\n",
    "df2 = pd.read_csv('players12.csv')\n",
    "df3 = pd.read_csv('players14.csv')\n",
    "\n",
    "frames = [df1]\n",
    "df = pd.concat(frames,ignore_index=True)\n",
    "\n",
    "\n",
    "\n",
    "#Group parameters\n",
    "df['Tackling'] = df[['SlidingTackle','StandingTackle']].mean(axis=1)\n",
    "df['Passing'] = df[['LongPassing','ShortPassing']].mean(axis=1)\n",
    "df['Movement'] = df[['Acceleration','SprintSpeed','Agility']].mean(axis=1)\n",
    "df = df[(df['club_pos']!='SUB') & (df['club_pos']!='RES')]\n",
    "\n",
    "bar_df = df\n",
    "mapp = {'GK': 0,'CB': 1,'LCB': 1,'RCB': 1,'LB':1,'RB': 1,'RWB': 1,'LWB': 1,'CM' : 2,'RM' : 2,'LDM': 2,'LAM': 2,'RDM': 2,'RAM': 2,'RCM' : 2,'LCM' : 2,'CDM': 2,'CAM': 2,'LM' : 2,'RM' : 2,'LW': 3,'RW': 3,'LF': 3, 'CF': 3, 'RF': 3, 'RS': 3,'ST': 3,'LS' : 3}\n",
    "Ydata =  df['club_pos'].map(mapp)\n",
    "Features = df[['SlidingTackle','StandingTackle', 'LongPassing', 'ShortPassing','Acceleration','SprintSpeed','Agility','Movement', 'Balance', 'BallControl', 'Aggression','Composure', 'Crossing', 'Curve', 'Dribbling', 'FKAccuracy', 'Finishing', 'GKDiving','GKHandling','GKKicking','GKPositioning','GKReflexes', 'HeadingAccuracy', 'Interceptions', 'Jumping', 'LongShots', 'Marking', 'Penalties', 'Positioning', 'Reactions', 'ShotPower', 'Stamina', 'Strength', 'Vision', 'Volleys','weight','height']]\n",
    "Featuresnp=Features.values\n",
    "s=['SlidingTackle','StandingTackle', 'LongPassing', 'ShortPassing','Acceleration','SprintSpeed','Agility','Movement', 'Balance', 'BallControl', 'Aggression','Composure', 'Crossing', 'Curve', 'Dribbling', 'FKAccuracy', 'Finishing', 'GKDiving','GKHandling','GKKicking','GKPositioning','GKReflexes', 'HeadingAccuracy', 'Interceptions', 'Jumping', 'LongShots', 'Marking', 'Penalties', 'Positioning', 'Reactions', 'ShotPower', 'Stamina', 'Strength', 'Vision', 'Volleys','weight','height']\n",
    "Ydata=Ydata.values\n",
    "Ydata.shape"
   ]
  },
  {
   "cell_type": "code",
   "execution_count": 124,
   "metadata": {},
   "outputs": [],
   "source": [
    "from sklearn.feature_selection import SelectKBest\n",
    "from sklearn.feature_selection import chi2\n",
    "X, y = Featuresnp, Ydata"
   ]
  },
  {
   "cell_type": "code",
   "execution_count": 125,
   "metadata": {},
   "outputs": [
    {
     "data": {
      "text/plain": [
       "RFE(estimator=SVC(C=1, cache_size=200, class_weight=None, coef0=0.0,\n",
       "  decision_function_shape='ovr', degree=3, gamma='auto', kernel='linear',\n",
       "  max_iter=-1, probability=False, random_state=None, shrinking=True,\n",
       "  tol=0.001, verbose=False),\n",
       "  n_features_to_select=1, step=1, verbose=0)"
      ]
     },
     "execution_count": 125,
     "metadata": {},
     "output_type": "execute_result"
    }
   ],
   "source": [
    "from sklearn.svm import SVC\n",
    "from sklearn.feature_selection import RFE\n",
    "svc = SVC(kernel=\"linear\", C=1)\n",
    "rfe = RFE(estimator=svc, n_features_to_select=1, step=1)\n",
    "rfe.fit(X, y)\n"
   ]
  },
  {
   "cell_type": "code",
   "execution_count": 126,
   "metadata": {},
   "outputs": [],
   "source": [
    "rank=list(rfe.ranking_)\n",
    "res=[]\n",
    "for i in range(1,38):\n",
    "    res.append(s[rank.index(i)])"
   ]
  },
  {
   "cell_type": "code",
   "execution_count": 127,
   "metadata": {},
   "outputs": [
    {
     "data": {
      "text/plain": [
       "['ShortPassing',\n",
       " 'Composure',\n",
       " 'StandingTackle',\n",
       " 'Positioning',\n",
       " 'Crossing',\n",
       " 'Aggression',\n",
       " 'BallControl',\n",
       " 'Reactions',\n",
       " 'height',\n",
       " 'Balance',\n",
       " 'Strength',\n",
       " 'Vision',\n",
       " 'Volleys',\n",
       " 'GKPositioning',\n",
       " 'HeadingAccuracy',\n",
       " 'Agility',\n",
       " 'Acceleration',\n",
       " 'Dribbling',\n",
       " 'GKHandling',\n",
       " 'SlidingTackle',\n",
       " 'Marking',\n",
       " 'Jumping',\n",
       " 'GKReflexes',\n",
       " 'Interceptions',\n",
       " 'GKKicking',\n",
       " 'LongPassing',\n",
       " 'FKAccuracy',\n",
       " 'LongShots',\n",
       " 'SprintSpeed',\n",
       " 'Curve',\n",
       " 'Stamina',\n",
       " 'Finishing',\n",
       " 'GKDiving',\n",
       " 'Penalties',\n",
       " 'weight',\n",
       " 'ShotPower',\n",
       " 'Movement']"
      ]
     },
     "execution_count": 127,
     "metadata": {},
     "output_type": "execute_result"
    }
   ],
   "source": [
    "res"
   ]
  },
  {
   "cell_type": "code",
   "execution_count": 128,
   "metadata": {},
   "outputs": [],
   "source": [
    "Kbest=SelectKBest(k=8)\n",
    "Kbest.fit(X,y)\n",
    "scores=np.array(Kbest.scores_)\n",
    "skills_dict = {}\n",
    "for i in range(len(scores)):\n",
    "    skills_dict[s[i]]=scores[i]"
   ]
  },
  {
   "cell_type": "code",
   "execution_count": 129,
   "metadata": {},
   "outputs": [
    {
     "data": {
      "text/plain": [
       "[('Reactions', 7.0344856720906588),\n",
       " ('Jumping', 12.816187211518486),\n",
       " ('Strength', 24.731949781808972),\n",
       " ('weight', 42.463626332423367),\n",
       " ('height', 44.69421474161382),\n",
       " ('Balance', 77.950391043231662),\n",
       " ('Agility', 97.718507337321398),\n",
       " ('SprintSpeed', 107.75380284967106),\n",
       " ('Acceleration', 108.5466814416548),\n",
       " ('Movement', 116.52750535357939),\n",
       " ('Vision', 185.23097448261967),\n",
       " ('FKAccuracy', 206.62792266189732),\n",
       " ('Aggression', 213.56854832951873),\n",
       " ('Composure', 219.6173073892962),\n",
       " ('Penalties', 294.12168995072989),\n",
       " ('Crossing', 294.38610767325758),\n",
       " ('Curve', 305.21691133121283),\n",
       " ('LongPassing', 352.49507038459529),\n",
       " ('Interceptions', 363.87417376539662),\n",
       " ('HeadingAccuracy', 367.49578831916847),\n",
       " ('SlidingTackle', 373.81310566898003),\n",
       " ('Marking', 384.81404796384624),\n",
       " ('StandingTackle', 405.85350286120445),\n",
       " ('Stamina', 413.3273477294951),\n",
       " ('Volleys', 421.42056277592212),\n",
       " ('LongShots', 444.49303198165751),\n",
       " ('ShotPower', 546.47546058424712),\n",
       " ('Finishing', 580.90586937417652),\n",
       " ('Positioning', 595.60801878205712),\n",
       " ('ShortPassing', 934.6589012350189),\n",
       " ('Dribbling', 1046.1991093012173),\n",
       " ('BallControl', 1403.1085355740242),\n",
       " ('GKKicking', 3273.4980011410166),\n",
       " ('GKPositioning', 5411.9920474691835),\n",
       " ('GKHandling', 5543.9437654193171),\n",
       " ('GKDiving', 6070.5570210308697),\n",
       " ('GKReflexes', 6109.4868265945879)]"
      ]
     },
     "execution_count": 129,
     "metadata": {},
     "output_type": "execute_result"
    }
   ],
   "source": [
    "sorted(skills_dict.iteritems(), key=lambda (k,v): v) \n"
   ]
  },
  {
   "cell_type": "code",
   "execution_count": 130,
   "metadata": {},
   "outputs": [],
   "source": [
    "scoreslist= [skills_dict['ShortPassing'],skills_dict['Composure'], skills_dict['StandingTackle'], skills_dict['Positioning'],skills_dict['Crossing'],skills_dict['Aggression'],skills_dict['BallControl'],skills_dict['Reactions']]"
   ]
  },
  {
   "cell_type": "code",
   "execution_count": 131,
   "metadata": {},
   "outputs": [
    {
     "data": {
      "text/plain": [
       "[934.6589012350189,\n",
       " 219.6173073892962,\n",
       " 405.85350286120445,\n",
       " 595.60801878205712,\n",
       " 294.38610767325758,\n",
       " 213.56854832951873,\n",
       " 1403.1085355740242,\n",
       " 7.0344856720906588]"
      ]
     },
     "execution_count": 131,
     "metadata": {},
     "output_type": "execute_result"
    }
   ],
   "source": [
    "scoreslist"
   ]
  },
  {
   "cell_type": "code",
   "execution_count": null,
   "metadata": {},
   "outputs": [],
   "source": []
  }
 ],
 "metadata": {
  "kernelspec": {
   "display_name": "Python 2",
   "language": "python",
   "name": "python2"
  },
  "language_info": {
   "codemirror_mode": {
    "name": "ipython",
    "version": 2
   },
   "file_extension": ".py",
   "mimetype": "text/x-python",
   "name": "python",
   "nbconvert_exporter": "python",
   "pygments_lexer": "ipython2",
   "version": "2.7.14"
  }
 },
 "nbformat": 4,
 "nbformat_minor": 2
}
