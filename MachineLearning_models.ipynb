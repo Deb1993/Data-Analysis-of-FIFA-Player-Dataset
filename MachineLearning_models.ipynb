{
 "cells": [
  {
   "cell_type": "markdown",
   "metadata": {},
   "source": [
    "## SVM Machine Learning Model"
   ]
  },
  {
   "cell_type": "markdown",
   "metadata": {},
   "source": [
    "Defined a multiclass SVM machine learning model using libraries from sklearn to classify a player into Attacker, Midfielder, Defender and Goalkeeper"
   ]
  },
  {
   "cell_type": "code",
   "execution_count": 43,
   "metadata": {},
   "outputs": [],
   "source": [
    "# Libraries\n",
    "import matplotlib.pyplot as plt\n",
    "import pandas as pd\n",
    "import math\n",
    "import numpy as np\n",
    "import datetime as DT\n",
    "from sklearn import svm\n",
    "from sklearn import datasets, linear_model\n",
    "\n",
    "\n",
    "#read file\n",
    "df1 = pd.read_csv('players11.csv')\n",
    "df2 = pd.read_csv('players12.csv')\n",
    "df3 = pd.read_csv('players14.csv')\n",
    "\n",
    "frames = [df1, df2]\n",
    "df = pd.concat(frames,ignore_index=True)\n",
    "\n",
    "\n",
    "#Group parameters\n",
    "df['Tackling'] = df[['SlidingTackle','StandingTackle']].mean(axis=1)\n",
    "df['Passing'] = df[['LongPassing','ShortPassing']].mean(axis=1)\n",
    "df['Movement'] = df[['Acceleration','SprintSpeed','Agility']].mean(axis=1)\n",
    "df = df[(df['club_pos']!='SUB') & (df['club_pos']!='RES')]\n",
    "\n",
    "bar_df = df\n",
    "mapp = {'GK': 0,'CB': 0,'LCB': 0,'RCB': 0,'LB':0,'RB': 0,'RWB': 0,'LWB': 0,'CM' : 0,'RM' : 0,'LDM': 0,'LAM': 0,'RDM': 0,'RAM': 0,'RCM' : 0,'LCM' : 0,'CDM': 0,'CAM': 0,'LM' : 0,'RM' : 0,'LW': 1,'RW': 1,'LF': 1,'CF': 1,'RF': 1,'RS': 1,'ST': 1,'LS' : 1}\n",
    "Ystriker =  df['club_pos'].map(mapp)\n",
    "Features = df[['ShortPassing','Composure','StandingTackle','Positioning','Crossing','Aggression','BallControl', 'Reactions']]\n",
    "\n",
    "Featuresnp=Features.values"
   ]
  },
  {
   "cell_type": "markdown",
   "metadata": {},
   "source": [
    "### Feature importance for striker"
   ]
  },
  {
   "cell_type": "markdown",
   "metadata": {},
   "source": [
    "Here, we used a SVM classifier to classify players into strikers and non-strikers. From this, we can understand which characteristics or traits are essential for a striker"
   ]
  },
  {
   "cell_type": "code",
   "execution_count": 44,
   "metadata": {},
   "outputs": [
    {
     "data": {
      "text/plain": [
       "SVC(C=1.0, cache_size=200, class_weight=None, coef0=0.0,\n",
       "  decision_function_shape='ovo', degree=3, gamma='auto', kernel='linear',\n",
       "  max_iter=-1, probability=False, random_state=None, shrinking=True,\n",
       "  tol=0.001, verbose=False)"
      ]
     },
     "execution_count": 44,
     "metadata": {},
     "output_type": "execute_result"
    }
   ],
   "source": [
    "Ynp=Ystriker.values\n",
    "clf = svm.SVC(decision_function_shape='ovo',kernel='linear')\n",
    "clf.fit(Featuresnp, Ynp) \n"
   ]
  },
  {
   "cell_type": "code",
   "execution_count": 45,
   "metadata": {},
   "outputs": [
    {
     "data": {
      "text/plain": [
       "array([[-0.07803622, -0.00069773, -0.04329912,  0.12123659, -0.05662806,\n",
       "         0.02176062,  0.05263123, -0.0096087 ]])"
      ]
     },
     "execution_count": 45,
     "metadata": {},
     "output_type": "execute_result"
    }
   ],
   "source": [
    "clf.coef_"
   ]
  },
  {
   "cell_type": "markdown",
   "metadata": {},
   "source": [
    "### Feature importance for midfielder"
   ]
  },
  {
   "cell_type": "markdown",
   "metadata": {},
   "source": [
    "Here, we used a SVM classifier to classify players into midfielders and non-midfielders. From this, we can understand which characteristics or traits are essential for a midfielder"
   ]
  },
  {
   "cell_type": "code",
   "execution_count": 46,
   "metadata": {},
   "outputs": [
    {
     "data": {
      "text/plain": [
       "SVC(C=1.0, cache_size=200, class_weight=None, coef0=0.0,\n",
       "  decision_function_shape='ovo', degree=3, gamma='auto', kernel='linear',\n",
       "  max_iter=-1, probability=False, random_state=None, shrinking=True,\n",
       "  tol=0.001, verbose=False)"
      ]
     },
     "execution_count": 46,
     "metadata": {},
     "output_type": "execute_result"
    }
   ],
   "source": [
    "mapmid = {'GK': 0,'CB': 0,'LCB': 0,'RCB': 0,'LB':0,'RB': 0,'RWB': 0,'LWB': 0,'CM' : 1,'RM' : 1,'LDM': 1,'LAM': 1,'RDM': 1,'RAM': 1,'RCM' : 1,'LCM' : 1,'CDM': 1,'CAM': 1,'LM' : 1,'RM' : 1,'LW': 0,'RW': 0,'LF': 0, 'CF': 0, 'RF': 0,'RS': 0,'ST': 0,'LS': 0}\n",
    "Ymid =  df['club_pos'].map(mapmid)\n",
    "Ynp=Ymid.values\n",
    "clf.fit(Featuresnp, Ynp) \n",
    "\n"
   ]
  },
  {
   "cell_type": "code",
   "execution_count": 47,
   "metadata": {},
   "outputs": [
    {
     "data": {
      "text/plain": [
       "array([[  1.92091081e-01,  -1.02771589e-02,   2.73706892e-05,\n",
       "          2.49176711e-02,  -7.77794421e-03,  -1.69111970e-02,\n",
       "          6.04872857e-04,  -9.01569366e-02]])"
      ]
     },
     "execution_count": 47,
     "metadata": {},
     "output_type": "execute_result"
    }
   ],
   "source": [
    "clf.coef_"
   ]
  },
  {
   "cell_type": "markdown",
   "metadata": {},
   "source": [
    "### Feature importance for defender"
   ]
  },
  {
   "cell_type": "markdown",
   "metadata": {},
   "source": [
    "Here, we used a SVM classifier to classify players into defenders and non-defenders. From this, we can understand which characteristics or traits are essential for a defender"
   ]
  },
  {
   "cell_type": "code",
   "execution_count": 50,
   "metadata": {},
   "outputs": [
    {
     "data": {
      "text/plain": [
       "SVC(C=1.0, cache_size=200, class_weight=None, coef0=0.0,\n",
       "  decision_function_shape='ovo', degree=3, gamma='auto', kernel='linear',\n",
       "  max_iter=-1, probability=False, random_state=None, shrinking=True,\n",
       "  tol=0.001, verbose=False)"
      ]
     },
     "execution_count": 50,
     "metadata": {},
     "output_type": "execute_result"
    }
   ],
   "source": [
    "mapdef = {'GK': 0,'CB': 1,'LCB': 1,'RCB': 1,'LB':1,'RB': 1,'RWB': 1,'LWB': 1,'CM' : 0,'RM' : 0,'LDM': 0,'LAM': 0,'RDM': 0,'RAM': 0,'RCM' : 0,'LCM' : 0,'CDM': 0,'CAM': 0,'LM' : 0,'RM' : 0,'LW': 0,'RW': 0,'LF': 0, 'CF': 0, 'RF': 0,'RS': 0,'ST': 0,'LS' : 0}\n",
    "\n",
    "Ydef =  df['club_pos'].map(mapdef)\n",
    "Ynp=Ydef.values\n",
    "clf.fit(Featuresnp, Ynp) \n",
    "\n"
   ]
  },
  {
   "cell_type": "code",
   "execution_count": 51,
   "metadata": {},
   "outputs": [
    {
     "data": {
      "text/plain": [
       "array([[-0.17934142, -0.01588265,  0.21983211, -0.04641418,  0.0713496 ,\n",
       "        -0.01492075, -0.02410294, -0.03248558]])"
      ]
     },
     "execution_count": 51,
     "metadata": {},
     "output_type": "execute_result"
    }
   ],
   "source": [
    "clf.coef_"
   ]
  },
  {
   "cell_type": "markdown",
   "metadata": {},
   "source": [
    "### Goalkeeper"
   ]
  },
  {
   "cell_type": "markdown",
   "metadata": {},
   "source": [
    "Here, we used a SVM classifier to classify players into goalkeepers and non-goalkeepers. From this, we can understand which characteristics or traits are essential for a goalkeeper"
   ]
  },
  {
   "cell_type": "code",
   "execution_count": 52,
   "metadata": {},
   "outputs": [
    {
     "data": {
      "text/plain": [
       "SVC(C=1.0, cache_size=200, class_weight=None, coef0=0.0,\n",
       "  decision_function_shape='ovo', degree=3, gamma='auto', kernel='linear',\n",
       "  max_iter=-1, probability=False, random_state=None, shrinking=True,\n",
       "  tol=0.001, verbose=False)"
      ]
     },
     "execution_count": 52,
     "metadata": {},
     "output_type": "execute_result"
    }
   ],
   "source": [
    "mapgk = {'GK': 1,'CB': 0,'LCB': 0,'RCB': 0,'LB':0,'RB': 0,'RWB': 0,'LWB': 0,'CM' : 0,'RM' : 0,'LDM': 0,'LAM': 0,'RDM': 0,'RAM': 0,'RCM' : 0,'LCM' : 0,'CDM': 0,'CAM': 0,'LM' : 0,'RM' : 0,'LW': 0,'RW': 0,'LF': 0,'CF': 0, 'RF': 0,'RS': 0,'ST': 0,'LS' : 0}\n",
    "\n",
    "\n",
    "Ygk =  df['club_pos'].map(mapgk)\n",
    "Ynp=Ygk.values\n",
    "clf.fit(Featuresnp, Ynp) "
   ]
  },
  {
   "cell_type": "code",
   "execution_count": 53,
   "metadata": {},
   "outputs": [
    {
     "data": {
      "text/plain": [
       "array([[ 0.00081382,  0.01675434, -0.03772257, -0.03969698, -0.00590561,\n",
       "        -0.00919911, -0.02682799,  0.02037967]])"
      ]
     },
     "execution_count": 53,
     "metadata": {},
     "output_type": "execute_result"
    }
   ],
   "source": [
    "clf.coef_"
   ]
  },
  {
   "cell_type": "markdown",
   "metadata": {},
   "source": [
    "### Player classifier"
   ]
  },
  {
   "cell_type": "markdown",
   "metadata": {},
   "source": [
    "Here we have used SVM classifier to classify players into Attackers, Midfielders, Defenders and Goalkeepers based on their skills and traits"
   ]
  },
  {
   "cell_type": "code",
   "execution_count": 30,
   "metadata": {},
   "outputs": [
    {
     "data": {
      "text/plain": [
       "SVC(C=1.0, cache_size=200, class_weight=None, coef0=0.0,\n",
       "  decision_function_shape='ovo', degree=3, gamma='auto', kernel='linear',\n",
       "  max_iter=-1, probability=False, random_state=None, shrinking=True,\n",
       "  tol=0.001, verbose=False)"
      ]
     },
     "execution_count": 30,
     "metadata": {},
     "output_type": "execute_result"
    }
   ],
   "source": [
    "mapclass = {'GK': 0,'CB': 1,'LCB': 1,'RCB': 1,'LB':1,'RB': 1,'RWB': 1,'LWB': 1,'CM' : 2,'RM' : 2,'LDM': 2,'LAM': 2,'RDM': 2,'RAM': 2,'RCM' : 2,'LCM' : 2,'CDM': 2,'CAM': 2,'LM' : 2,'RM' : 2,'LW': 3,'RW': 3,'LF': 3,'CF': 3, 'RF': 3,'RS': 3,'ST': 3,'LS' : 3}\n",
    "Yclass =  df['club_pos'].map(mapclass)\n",
    "Ynp=Yclass.values\n",
    "clf.fit(Featuresnp, Ynp)\n"
   ]
  },
  {
   "cell_type": "code",
   "execution_count": 31,
   "metadata": {},
   "outputs": [
    {
     "data": {
      "text/plain": [
       "array([[-0.00131555,  0.03569874, -0.06450799, -0.00990949, -0.04163089,\n",
       "        -0.06000977,  0.00336414,  0.07627626],\n",
       "       [ 0.0104874 ,  0.00443734, -0.01480874, -0.01854903, -0.0194163 ,\n",
       "        -0.02175625, -0.03118965,  0.0197774 ],\n",
       "       [ 0.01352582,  0.0441459 , -0.02323267, -0.06521457,  0.0005717 ,\n",
       "        -0.01236962, -0.04193237,  0.04821771],\n",
       "       [-0.20696667, -0.01472612,  0.1730236 , -0.04941897,  0.07079929,\n",
       "        -0.02224377, -0.03795285,  0.01871775],\n",
       "       [ 0.01440855, -0.01945866,  0.12159454, -0.08966479,  0.0395237 ,\n",
       "         0.01008344, -0.0394156 , -0.00095482],\n",
       "       [ 0.08155242, -0.00526592,  0.04259703, -0.10671838,  0.05900508,\n",
       "        -0.01957056, -0.04069101, -0.00633872]])"
      ]
     },
     "execution_count": 31,
     "metadata": {},
     "output_type": "execute_result"
    }
   ],
   "source": [
    "clf.coef_"
   ]
  },
  {
   "cell_type": "code",
   "execution_count": 37,
   "metadata": {},
   "outputs": [
    {
     "data": {
      "text/plain": [
       "array([3, 3, 3, 3, 0, 2, 3, 3, 2, 1, 3, 1, 3, 0, 0, 2, 2, 3, 0, 2, 3, 2, 3,\n",
       "       2, 3, 1, 3, 2, 0, 0, 3, 3, 2, 2, 2, 0, 2, 2, 2, 3])"
      ]
     },
     "execution_count": 37,
     "metadata": {},
     "output_type": "execute_result"
    }
   ],
   "source": [
    "clf.predict(Featuresnp[0:40])"
   ]
  },
  {
   "cell_type": "code",
   "execution_count": 39,
   "metadata": {
    "scrolled": true
   },
   "outputs": [
    {
     "data": {
      "text/plain": [
       "array([3, 3, 3, 3, 0, 2, 3, 3, 2, 1, 3, 1, 3, 0, 0, 2, 2, 3, 0, 2, 3, 2, 3,\n",
       "       2, 3, 1, 3, 3, 0, 0, 3, 3, 2, 2, 3, 0, 2, 1, 2, 3])"
      ]
     },
     "execution_count": 39,
     "metadata": {},
     "output_type": "execute_result"
    }
   ],
   "source": [
    "Ynp[0:40]"
   ]
  }
 ],
 "metadata": {
  "kernelspec": {
   "display_name": "Python 2",
   "language": "python",
   "name": "python2"
  },
  "language_info": {
   "codemirror_mode": {
    "name": "ipython",
    "version": 2
   },
   "file_extension": ".py",
   "mimetype": "text/x-python",
   "name": "python",
   "nbconvert_exporter": "python",
   "pygments_lexer": "ipython2",
   "version": "2.7.14"
  }
 },
 "nbformat": 4,
 "nbformat_minor": 2
}
