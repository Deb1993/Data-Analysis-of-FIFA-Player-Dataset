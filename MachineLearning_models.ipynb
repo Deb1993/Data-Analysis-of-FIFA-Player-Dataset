{
 "cells": [
  {
   "cell_type": "markdown",
   "metadata": {},
   "source": [
    "## SVM Machine Learning Model"
   ]
  },
  {
   "cell_type": "code",
   "execution_count": 203,
   "metadata": {},
   "outputs": [],
   "source": [
    "# Libraries\n",
    "import matplotlib.pyplot as plt\n",
    "import pandas as pd\n",
    "import math\n",
    "import numpy as np\n",
    "import datetime as DT\n",
    "from sklearn import svm\n",
    "from sklearn import datasets, linear_model\n",
    "\n",
    "\n",
    "#read file\n",
    "df1 = pd.read_csv('players11.csv')\n",
    "df2 = pd.read_csv('players12.csv')\n",
    "df3 = pd.read_csv('players14.csv')\n",
    "\n",
    "frames = [df1, df2]\n",
    "df = pd.concat(frames,ignore_index=True)\n",
    "df['dob'] = pd.to_datetime(df['dob'], infer_datetime_format=True)    # 1\n",
    "df['dob'] = df['dob'].where(df['dob'] < now, df['dob'] -  np.timedelta64(100, 'Y'))   # 2\n",
    "df['age'] = (now - df['dob']).astype('<m8[Y]')    # 3\n",
    "\n",
    "\n",
    "#Group parameters\n",
    "df['Tackling'] = df[['SlidingTackle','StandingTackle']].mean(axis=1)\n",
    "df['Passing'] = df[['LongPassing','ShortPassing']].mean(axis=1)\n",
    "df['Movement'] = df[['Acceleration','SprintSpeed','Agility']].mean(axis=1)\n",
    "df = df[(df['club_pos']!='SUB') & (df['club_pos']!='RES')]\n",
    "\n",
    "bar_df = df\n",
    "mapp = {'GK': 0,\n",
    "'CB': 0,\n",
    "'LCB': 0,\n",
    "'RCB': 0,\n",
    "'LB':0,\n",
    "'RB': 0,\n",
    "'RWB': 0,\n",
    "'LWB': 0,\n",
    "'CM' : 0,\n",
    "'RM' : 0,\n",
    "'LDM': 0,\n",
    "'LAM': 0,\n",
    "'RDM': 0,\n",
    "'RAM': 0,\n",
    "'RCM' : 0,\n",
    "'LCM' : 0,\n",
    "'CDM': 0,\n",
    "'CAM': 0,\n",
    "'LM' : 0,\n",
    "'RM' : 0,\n",
    "'LW': 1,\n",
    "'RW': 1,\n",
    "'LF': 1,       \n",
    "'CF': 1, \n",
    "'RF': 1,         \n",
    "'RS': 1,\n",
    "'ST': 1,\n",
    "'LS' : 1}\n",
    "Ystriker =  df['club_pos'].map(mapp)\n",
    "Features = df[['Tackling','Interceptions','Passing','BallControl','Dribbling','Movement','Finishing','GKDiving']]\n",
    "Featuresnp=Features.values"
   ]
  },
  {
   "cell_type": "markdown",
   "metadata": {},
   "source": [
    "### Feature importance for striker"
   ]
  },
  {
   "cell_type": "code",
   "execution_count": 218,
   "metadata": {},
   "outputs": [
    {
     "data": {
      "text/plain": [
       "SVC(C=1.0, cache_size=200, class_weight=None, coef0=0.0,\n",
       "  decision_function_shape='ovo', degree=3, gamma='auto', kernel='linear',\n",
       "  max_iter=-1, probability=False, random_state=None, shrinking=True,\n",
       "  tol=0.001, verbose=False)"
      ]
     },
     "execution_count": 218,
     "metadata": {},
     "output_type": "execute_result"
    }
   ],
   "source": [
    "Ynp=Ystriker.values\n",
    "clf = svm.SVC(decision_function_shape='ovo',kernel='linear')\n",
    "clf.fit(Featuresnp, Ynp) \n"
   ]
  },
  {
   "cell_type": "code",
   "execution_count": 205,
   "metadata": {},
   "outputs": [
    {
     "data": {
      "text/plain": [
       "array([[-0.01349469, -0.01648562, -0.10341999,  0.08046808, -0.06061269,\n",
       "        -0.01065821,  0.1173136 , -0.01585564]])"
      ]
     },
     "execution_count": 205,
     "metadata": {},
     "output_type": "execute_result"
    }
   ],
   "source": [
    "clf.coef_"
   ]
  },
  {
   "cell_type": "markdown",
   "metadata": {},
   "source": [
    "### Feature importance for midfielder"
   ]
  },
  {
   "cell_type": "code",
   "execution_count": 209,
   "metadata": {},
   "outputs": [
    {
     "data": {
      "text/plain": [
       "SVC(C=1.0, cache_size=200, class_weight=None, coef0=0.0,\n",
       "  decision_function_shape='ovo', degree=3, gamma='auto', kernel='linear',\n",
       "  max_iter=-1, probability=False, random_state=None, shrinking=True,\n",
       "  tol=0.001, verbose=False)"
      ]
     },
     "execution_count": 209,
     "metadata": {},
     "output_type": "execute_result"
    }
   ],
   "source": [
    "mapmid = {'GK': 0,\n",
    "'CB': 0,\n",
    "'LCB': 0,\n",
    "'RCB': 0,\n",
    "'LB':0,\n",
    "'RB': 0,\n",
    "'RWB': 0,\n",
    "'LWB': 0,\n",
    "'CM' : 1,\n",
    "'RM' : 1,\n",
    "'LDM': 1,\n",
    "'LAM': 1,\n",
    "'RDM': 1,\n",
    "'RAM': 1,\n",
    "'RCM' : 1,\n",
    "'LCM' : 1,\n",
    "'CDM': 1,\n",
    "'CAM': 1,\n",
    "'LM' : 1,\n",
    "'RM' : 1,\n",
    "'LW': 0,\n",
    "'RW': 0,\n",
    "'LF': 0,       \n",
    "'CF': 0, \n",
    "'RF': 0,         \n",
    "'RS': 0,\n",
    "'ST': 0,\n",
    "'LS' : 0}\n",
    "Ymid =  df['club_pos'].map(mapmid)\n",
    "Ynp=Ymid.values\n",
    "clf.fit(Featuresnp, Ynp) \n",
    "\n"
   ]
  },
  {
   "cell_type": "code",
   "execution_count": 210,
   "metadata": {},
   "outputs": [
    {
     "data": {
      "text/plain": [
       "array([[-0.04297835,  0.02257575,  0.16942539, -0.09707117,  0.04902088,\n",
       "        -0.00219137,  0.01975266, -0.0161185 ]])"
      ]
     },
     "execution_count": 210,
     "metadata": {},
     "output_type": "execute_result"
    }
   ],
   "source": [
    "clf.coef_"
   ]
  },
  {
   "cell_type": "markdown",
   "metadata": {},
   "source": [
    "### Feature importance for defender"
   ]
  },
  {
   "cell_type": "code",
   "execution_count": 207,
   "metadata": {},
   "outputs": [
    {
     "data": {
      "text/plain": [
       "SVC(C=1.0, cache_size=200, class_weight=None, coef0=0.0,\n",
       "  decision_function_shape='ovo', degree=3, gamma='auto', kernel='linear',\n",
       "  max_iter=-1, probability=False, random_state=None, shrinking=True,\n",
       "  tol=0.001, verbose=False)"
      ]
     },
     "execution_count": 207,
     "metadata": {},
     "output_type": "execute_result"
    }
   ],
   "source": [
    "mapdef = {'GK': 0,\n",
    "'CB': 1,\n",
    "'LCB': 1,\n",
    "'RCB': 1,\n",
    "'LB':1,\n",
    "'RB': 1,\n",
    "'RWB': 1,\n",
    "'LWB': 1,\n",
    "'CM' : 0,\n",
    "'RM' : 0,\n",
    "'LDM': 0,\n",
    "'LAM': 0,\n",
    "'RDM': 0,\n",
    "'RAM': 0,\n",
    "'RCM' : 0,\n",
    "'LCM' : 0,\n",
    "'CDM': 0,\n",
    "'CAM': 0,\n",
    "'LM' : 0,\n",
    "'RM' : 0,\n",
    "'LW': 0,\n",
    "'RW': 0,\n",
    "'LF': 0,       \n",
    "'CF': 0, \n",
    "'RF': 0,         \n",
    "'RS': 0,\n",
    "'ST': 0,\n",
    "'LS' : 0}\n",
    "\n",
    "\n",
    "Ydef =  df['club_pos'].map(mapdef)\n",
    "Ynp=Ydef.values\n",
    "clf.fit(Featuresnp, Ynp) \n",
    "\n"
   ]
  },
  {
   "cell_type": "code",
   "execution_count": 213,
   "metadata": {},
   "outputs": [
    {
     "data": {
      "text/plain": [
       "array([[ 0.21048475, -0.04507476, -0.15440188, -0.01242488, -0.00282847,\n",
       "         0.02537567, -0.03979661, -0.03860633]])"
      ]
     },
     "execution_count": 213,
     "metadata": {},
     "output_type": "execute_result"
    }
   ],
   "source": [
    "clf.coef_"
   ]
  },
  {
   "cell_type": "markdown",
   "metadata": {},
   "source": [
    "### Goalkeeper"
   ]
  },
  {
   "cell_type": "code",
   "execution_count": 216,
   "metadata": {},
   "outputs": [
    {
     "data": {
      "text/plain": [
       "SVC(C=1.0, cache_size=200, class_weight=None, coef0=0.0,\n",
       "  decision_function_shape='ovo', degree=3, gamma='auto', kernel='linear',\n",
       "  max_iter=-1, probability=False, random_state=None, shrinking=True,\n",
       "  tol=0.001, verbose=False)"
      ]
     },
     "execution_count": 216,
     "metadata": {},
     "output_type": "execute_result"
    }
   ],
   "source": [
    "mapgk = {'GK': 1,\n",
    "'CB': 0,\n",
    "'LCB': 0,\n",
    "'RCB': 0,\n",
    "'LB':0,\n",
    "'RB': 0,\n",
    "'RWB': 0,\n",
    "'LWB': 0,\n",
    "'CM' : 0,\n",
    "'RM' : 0,\n",
    "'LDM': 0,\n",
    "'LAM': 0,\n",
    "'RDM': 0,\n",
    "'RAM': 0,\n",
    "'RCM' : 0,\n",
    "'LCM' : 0,\n",
    "'CDM': 0,\n",
    "'CAM': 0,\n",
    "'LM' : 0,\n",
    "'RM' : 0,\n",
    "'LW': 0,\n",
    "'RW': 0,\n",
    "'LF': 0,       \n",
    "'CF': 0, \n",
    "'RF': 0,         \n",
    "'RS': 0,\n",
    "'ST': 0,\n",
    "'LS' : 0}\n",
    "\n",
    "\n",
    "Ygk =  df['club_pos'].map(mapgk)\n",
    "Ynp=Ygk.values\n",
    "clf.fit(Featuresnp, Ynp) "
   ]
  },
  {
   "cell_type": "code",
   "execution_count": 217,
   "metadata": {},
   "outputs": [
    {
     "data": {
      "text/plain": [
       "array([[-0.01735977,  0.00159019,  0.01491757, -0.01052458, -0.00042576,\n",
       "        -0.00656706, -0.00294418,  0.03825022]])"
      ]
     },
     "execution_count": 217,
     "metadata": {},
     "output_type": "execute_result"
    }
   ],
   "source": [
    "clf.coef_"
   ]
  },
  {
   "cell_type": "code",
   "execution_count": 226,
   "metadata": {},
   "outputs": [
    {
     "data": {
      "text/plain": [
       "SVC(C=1.0, cache_size=200, class_weight=None, coef0=0.0,\n",
       "  decision_function_shape='ovo', degree=3, gamma='auto', kernel='linear',\n",
       "  max_iter=-1, probability=False, random_state=None, shrinking=True,\n",
       "  tol=0.001, verbose=False)"
      ]
     },
     "execution_count": 226,
     "metadata": {},
     "output_type": "execute_result"
    }
   ],
   "source": [
    "mapclass = {'GK': 0,\n",
    "'CB': 1,\n",
    "'LCB': 1,\n",
    "'RCB': 1,\n",
    "'LB':1,\n",
    "'RB': 1,\n",
    "'RWB': 1,\n",
    "'LWB': 1,\n",
    "'CM' : 2,\n",
    "'RM' : 2,\n",
    "'LDM': 2,\n",
    "'LAM': 2,\n",
    "'RDM': 2,\n",
    "'RAM': 2,\n",
    "'RCM' : 2,\n",
    "'LCM' : 2,\n",
    "'CDM': 2,\n",
    "'CAM': 2,\n",
    "'LM' : 2,\n",
    "'RM' : 2,\n",
    "'LW': 3,\n",
    "'RW': 3,\n",
    "'LF': 3,       \n",
    "'CF': 3, \n",
    "'RF': 3,         \n",
    "'RS': 3,\n",
    "'ST': 3,\n",
    "'LS' : 3}\n",
    "\n",
    "\n",
    "Yclass =  df['club_pos'].map(mapclass)\n",
    "Ynp=Yclass.values\n",
    "clf.fit(Featuresnp, Ynp) \n"
   ]
  },
  {
   "cell_type": "code",
   "execution_count": 227,
   "metadata": {},
   "outputs": [
    {
     "data": {
      "text/plain": [
       "array([[-5.41562501e-02, -7.56194898e-02,  6.67051019e-02,\n",
       "        -2.63274807e-02, -6.21098158e-03, -8.87167351e-02,\n",
       "         8.87689015e-02,  7.08441908e-02],\n",
       "       [-8.94423472e-03,  1.94515751e-04, -4.34270472e-03,\n",
       "         2.41397031e-04, -2.34023856e-03, -1.06896016e-02,\n",
       "        -1.98889995e-03,  3.33850791e-02],\n",
       "       [-5.24385320e-03, -1.71522522e-03,  1.37694123e-02,\n",
       "         8.71312726e-04, -7.31047627e-03, -4.11292502e-03,\n",
       "        -1.29790115e-02,  3.16155910e-02],\n",
       "       [ 1.97826534e-01, -4.54847513e-02, -1.58513483e-01,\n",
       "        -5.41750562e-03, -4.54965193e-03,  2.35542570e-02,\n",
       "        -3.89420063e-02,  9.81582116e-04],\n",
       "       [ 9.13849259e-02,  2.44800914e-02, -3.76030155e-02,\n",
       "        -1.50272124e-02,  1.01525704e-02,  8.85434213e-03,\n",
       "        -8.15091602e-02,  7.97115542e-03],\n",
       "       [ 1.33880765e-02,  1.44476093e-02,  1.08004716e-01,\n",
       "        -9.21095037e-02,  7.07107099e-02,  1.16338405e-02,\n",
       "        -1.13668299e-01,  7.61789550e-03]])"
      ]
     },
     "execution_count": 227,
     "metadata": {},
     "output_type": "execute_result"
    }
   ],
   "source": [
    "clf.coef_"
   ]
  },
  {
   "cell_type": "code",
   "execution_count": 228,
   "metadata": {},
   "outputs": [
    {
     "data": {
      "text/plain": [
       "array([3, 3, 3, 3, 0, 2, 3, 2, 2, 1])"
      ]
     },
     "execution_count": 228,
     "metadata": {},
     "output_type": "execute_result"
    }
   ],
   "source": [
    "clf.predict(Featuresnp[0:10])"
   ]
  },
  {
   "cell_type": "code",
   "execution_count": 229,
   "metadata": {
    "scrolled": true
   },
   "outputs": [
    {
     "data": {
      "text/plain": [
       "array([3, 3, 3, 3, 0, 2, 3, 3, 2, 1])"
      ]
     },
     "execution_count": 229,
     "metadata": {},
     "output_type": "execute_result"
    }
   ],
   "source": [
    "Ynp[0:10]"
   ]
  },
  {
   "cell_type": "code",
   "execution_count": null,
   "metadata": {},
   "outputs": [],
   "source": []
  },
  {
   "cell_type": "markdown",
   "metadata": {},
   "source": []
  },
  {
   "cell_type": "code",
   "execution_count": null,
   "metadata": {},
   "outputs": [],
   "source": []
  },
  {
   "cell_type": "code",
   "execution_count": null,
   "metadata": {
    "collapsed": true
   },
   "outputs": [],
   "source": []
  },
  {
   "cell_type": "code",
   "execution_count": null,
   "metadata": {
    "collapsed": true
   },
   "outputs": [],
   "source": []
  }
 ],
 "metadata": {
  "kernelspec": {
   "display_name": "Python 2",
   "language": "python",
   "name": "python2"
  },
  "language_info": {
   "codemirror_mode": {
    "name": "ipython",
    "version": 2
   },
   "file_extension": ".py",
   "mimetype": "text/x-python",
   "name": "python",
   "nbconvert_exporter": "python",
   "pygments_lexer": "ipython2",
   "version": "2.7.14"
  }
 },
 "nbformat": 4,
 "nbformat_minor": 2
}
