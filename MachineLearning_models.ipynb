{
 "cells": [
  {
   "cell_type": "markdown",
   "metadata": {},
   "source": [
    "## SVM Machine Learning Model"
   ]
  },
  {
   "cell_type": "markdown",
   "metadata": {},
   "source": [
    "Defined a multiclass SVM machine learning model using libraries from sklearn to classify a player into Attacker, Midfielder, Defender and Goalkeeper"
   ]
  },
  {
   "cell_type": "code",
   "execution_count": 29,
   "metadata": {},
   "outputs": [],
   "source": [
    "# Libraries\n",
    "import matplotlib.pyplot as plt\n",
    "import pandas as pd\n",
    "import math\n",
    "import numpy as np\n",
    "import datetime as DT\n",
    "from sklearn import svm\n",
    "from sklearn import datasets, linear_model\n",
    "from dataloader import loader_mlmodel\n",
    "\n",
    "\n",
    "df=loader_mlmodel()\n",
    "mapp = {'GK': 0,'CB': 0,'LCB': 0,'RCB': 0,'LB':0,'RB': 0,'RWB': 0,'LWB': 0,'CM' : 0,'RM' : 0,'LDM': 0,'LAM': 0,'RDM': 0,'RAM': 0,'RCM' : 0,'LCM' : 0,'CDM': 0,'CAM': 0,'LM' : 0,'RM' : 0,'LW': 1,'RW': 1,'LF': 1,'CF': 1,'RF': 1,'RS': 1,'ST': 1,'LS' : 1}\n",
    "Ystriker =  df['club_pos'].map(mapp)\n",
    "Features = df[['StandingTackle','ShortPassing','Crossing','Positioning','GKHandling','BallControl','Aggression']]\n",
    "Featuresnp=Features.values"
   ]
  },
  {
   "cell_type": "markdown",
   "metadata": {},
   "source": [
    "### Feature importance for striker"
   ]
  },
  {
   "cell_type": "markdown",
   "metadata": {},
   "source": [
    "Here, we used a SVM classifier to classify players into strikers and non-strikers. From this, we can understand which characteristics or traits are essential for a striker"
   ]
  },
  {
   "cell_type": "code",
   "execution_count": 30,
   "metadata": {},
   "outputs": [
    {
     "data": {
      "text/plain": [
       "SVC(C=1.0, cache_size=200, class_weight=None, coef0=0.0,\n",
       "  decision_function_shape='ovo', degree=3, gamma='auto', kernel='linear',\n",
       "  max_iter=-1, probability=False, random_state=None, shrinking=True,\n",
       "  tol=0.001, verbose=False)"
      ]
     },
     "execution_count": 30,
     "metadata": {},
     "output_type": "execute_result"
    }
   ],
   "source": [
    "Ynp=Ystriker.values\n",
    "clf = svm.SVC(decision_function_shape='ovo',kernel='linear')\n",
    "clf.fit(Featuresnp, Ynp) \n"
   ]
  },
  {
   "cell_type": "code",
   "execution_count": 31,
   "metadata": {},
   "outputs": [
    {
     "data": {
      "text/plain": [
       "array([[-0.04436076, -0.0791623 , -0.05752685,  0.11641591, -0.01341702,\n",
       "         0.04674585,  0.0215085 ]])"
      ]
     },
     "execution_count": 31,
     "metadata": {},
     "output_type": "execute_result"
    }
   ],
   "source": [
    "clf.coef_"
   ]
  },
  {
   "cell_type": "markdown",
   "metadata": {},
   "source": [
    "### Feature importance for midfielder"
   ]
  },
  {
   "cell_type": "markdown",
   "metadata": {},
   "source": [
    "Here, we used a SVM classifier to classify players into midfielders and non-midfielders. From this, we can understand which characteristics or traits are essential for a midfielder"
   ]
  },
  {
   "cell_type": "code",
   "execution_count": 32,
   "metadata": {},
   "outputs": [
    {
     "data": {
      "text/plain": [
       "SVC(C=1.0, cache_size=200, class_weight=None, coef0=0.0,\n",
       "  decision_function_shape='ovo', degree=3, gamma='auto', kernel='linear',\n",
       "  max_iter=-1, probability=False, random_state=None, shrinking=True,\n",
       "  tol=0.001, verbose=False)"
      ]
     },
     "execution_count": 32,
     "metadata": {},
     "output_type": "execute_result"
    }
   ],
   "source": [
    "mapmid = {'GK': 0,'CB': 0,'LCB': 0,'RCB': 0,'LB':0,'RB': 0,'RWB': 0,'LWB': 0,'CM' : 1,'RM' : 1,'LDM': 1,'LAM': 1,'RDM': 1,'RAM': 1,'RCM' : 1,'LCM' : 1,'CDM': 1,'CAM': 1,'LM' : 1,'RM' : 1,'LW': 0,'RW': 0,'LF': 0, 'CF': 0, 'RF': 0,'RS': 0,'ST': 0,'LS': 0}\n",
    "Ymid =  df['club_pos'].map(mapmid)\n",
    "Ynp=Ymid.values\n",
    "clf.fit(Featuresnp, Ynp) \n",
    "\n"
   ]
  },
  {
   "cell_type": "code",
   "execution_count": 33,
   "metadata": {},
   "outputs": [
    {
     "data": {
      "text/plain": [
       "array([[-0.00026776,  0.15871445, -0.00199868,  0.01669032, -0.00232154,\n",
       "        -0.02519966, -0.02986746]])"
      ]
     },
     "execution_count": 33,
     "metadata": {},
     "output_type": "execute_result"
    }
   ],
   "source": [
    "clf.coef_"
   ]
  },
  {
   "cell_type": "markdown",
   "metadata": {},
   "source": [
    "### Feature importance for defender"
   ]
  },
  {
   "cell_type": "markdown",
   "metadata": {},
   "source": [
    "Here, we used a SVM classifier to classify players into defenders and non-defenders. From this, we can understand which characteristics or traits are essential for a defender"
   ]
  },
  {
   "cell_type": "code",
   "execution_count": 34,
   "metadata": {},
   "outputs": [
    {
     "data": {
      "text/plain": [
       "SVC(C=1.0, cache_size=200, class_weight=None, coef0=0.0,\n",
       "  decision_function_shape='ovo', degree=3, gamma='auto', kernel='linear',\n",
       "  max_iter=-1, probability=False, random_state=None, shrinking=True,\n",
       "  tol=0.001, verbose=False)"
      ]
     },
     "execution_count": 34,
     "metadata": {},
     "output_type": "execute_result"
    }
   ],
   "source": [
    "mapdef = {'GK': 0,'CB': 1,'LCB': 1,'RCB': 1,'LB':1,'RB': 1,'RWB': 1,'LWB': 1,'CM' : 0,'RM' : 0,'LDM': 0,'LAM': 0,'RDM': 0,'RAM': 0,'RCM' : 0,'LCM' : 0,'CDM': 0,'CAM': 0,'LM' : 0,'RM' : 0,'LW': 0,'RW': 0,'LF': 0, 'CF': 0, 'RF': 0,'RS': 0,'ST': 0,'LS' : 0}\n",
    "\n",
    "Ydef =  df['club_pos'].map(mapdef)\n",
    "Ynp=Ydef.values\n",
    "clf.fit(Featuresnp, Ynp) \n",
    "\n"
   ]
  },
  {
   "cell_type": "code",
   "execution_count": 35,
   "metadata": {},
   "outputs": [
    {
     "data": {
      "text/plain": [
       "array([[ 0.19173923, -0.20459971,  0.06922768, -0.04811022, -0.0693693 ,\n",
       "        -0.03813824, -0.02327118]])"
      ]
     },
     "execution_count": 35,
     "metadata": {},
     "output_type": "execute_result"
    }
   ],
   "source": [
    "clf.coef_"
   ]
  },
  {
   "cell_type": "markdown",
   "metadata": {},
   "source": [
    "### Goalkeeper"
   ]
  },
  {
   "cell_type": "markdown",
   "metadata": {},
   "source": [
    "Here, we used a SVM classifier to classify players into goalkeepers and non-goalkeepers. From this, we can understand which characteristics or traits are essential for a goalkeeper"
   ]
  },
  {
   "cell_type": "code",
   "execution_count": 36,
   "metadata": {},
   "outputs": [
    {
     "data": {
      "text/plain": [
       "SVC(C=1.0, cache_size=200, class_weight=None, coef0=0.0,\n",
       "  decision_function_shape='ovo', degree=3, gamma='auto', kernel='linear',\n",
       "  max_iter=-1, probability=False, random_state=None, shrinking=True,\n",
       "  tol=0.001, verbose=False)"
      ]
     },
     "execution_count": 36,
     "metadata": {},
     "output_type": "execute_result"
    }
   ],
   "source": [
    "mapgk = {'GK': 1,'CB': 0,'LCB': 0,'RCB': 0,'LB':0,'RB': 0,'RWB': 0,'LWB': 0,'CM' : 0,'RM' : 0,'LDM': 0,'LAM': 0,'RDM': 0,'RAM': 0,'RCM' : 0,'LCM' : 0,'CDM': 0,'CAM': 0,'LM' : 0,'RM' : 0,'LW': 0,'RW': 0,'LF': 0,'CF': 0, 'RF': 0,'RS': 0,'ST': 0,'LS' : 0}\n",
    "\n",
    "\n",
    "Ygk =  df['club_pos'].map(mapgk)\n",
    "Ynp=Ygk.values\n",
    "clf.fit(Featuresnp, Ynp) "
   ]
  },
  {
   "cell_type": "code",
   "execution_count": 37,
   "metadata": {},
   "outputs": [
    {
     "data": {
      "text/plain": [
       "array([[-0.00975216,  0.0051531 , -0.00098546, -0.00856469,  0.03420101,\n",
       "        -0.00683177, -0.00417321]])"
      ]
     },
     "execution_count": 37,
     "metadata": {},
     "output_type": "execute_result"
    }
   ],
   "source": [
    "clf.coef_"
   ]
  },
  {
   "cell_type": "markdown",
   "metadata": {},
   "source": [
    "### Player classifier"
   ]
  },
  {
   "cell_type": "markdown",
   "metadata": {},
   "source": [
    "Here we have used SVM classifier to classify players into Attackers, Midfielders, Defenders and Goalkeepers based on their skills and traits"
   ]
  },
  {
   "cell_type": "code",
   "execution_count": 38,
   "metadata": {},
   "outputs": [
    {
     "data": {
      "text/plain": [
       "SVC(C=1.0, cache_size=200, class_weight=None, coef0=0.0,\n",
       "  decision_function_shape='ovo', degree=3, gamma='auto', kernel='linear',\n",
       "  max_iter=-1, probability=False, random_state=None, shrinking=True,\n",
       "  tol=0.001, verbose=False)"
      ]
     },
     "execution_count": 38,
     "metadata": {},
     "output_type": "execute_result"
    }
   ],
   "source": [
    "mapclass = {'GK': 0,'CB': 1,'LCB': 1,'RCB': 1,'LB':1,'RB': 1,'RWB': 1,'LWB': 1,'CM' : 2,'RM' : 2,'LDM': 2,'LAM': 2,'RDM': 2,'RAM': 2,'RCM' : 2,'LCM' : 2,'CDM': 2,'CAM': 2,'LM' : 2,'RM' : 2,'LW': 3,'RW': 3,'LF': 3,'CF': 3, 'RF': 3,'RS': 3,'ST': 3,'LS' : 3}\n",
    "Yclass =  df['club_pos'].map(mapclass)\n",
    "Ynp=Yclass.values\n",
    "clf.fit(Featuresnp, Ynp)\n"
   ]
  },
  {
   "cell_type": "code",
   "execution_count": 39,
   "metadata": {},
   "outputs": [
    {
     "data": {
      "text/plain": [
       "array([3, 3, 3, 3, 0, 2, 3, 3, 2, 1, 3, 1, 3, 0, 0, 2, 2, 3, 0, 2, 3, 2, 3,\n",
       "       2, 3, 1, 3, 2, 0, 0, 3, 3, 2, 2, 2, 0, 2, 2, 2, 3])"
      ]
     },
     "execution_count": 39,
     "metadata": {},
     "output_type": "execute_result"
    }
   ],
   "source": [
    "clf.predict(Featuresnp[0:40])"
   ]
  },
  {
   "cell_type": "code",
   "execution_count": 40,
   "metadata": {
    "scrolled": true
   },
   "outputs": [
    {
     "data": {
      "text/plain": [
       "array([3, 3, 3, 3, 0, 2, 3, 3, 2, 1, 3, 1, 3, 0, 0, 2, 2, 3, 0, 2, 3, 2, 3,\n",
       "       2, 3, 1, 3, 3, 0, 0, 3, 3, 2, 2, 3, 0, 2, 1, 2, 3])"
      ]
     },
     "execution_count": 40,
     "metadata": {},
     "output_type": "execute_result"
    }
   ],
   "source": [
    "Ynp[0:40]"
   ]
  }
 ],
 "metadata": {
  "kernelspec": {
   "display_name": "Python 2",
   "language": "python",
   "name": "python2"
  },
  "language_info": {
   "codemirror_mode": {
    "name": "ipython",
    "version": 2
   },
   "file_extension": ".py",
   "mimetype": "text/x-python",
   "name": "python",
   "nbconvert_exporter": "python",
   "pygments_lexer": "ipython2",
   "version": "2.7.14"
  }
 },
 "nbformat": 4,
 "nbformat_minor": 2
}
