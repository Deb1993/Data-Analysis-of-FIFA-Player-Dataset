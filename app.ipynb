{
 "cells": [
  {
   "cell_type": "code",
   "execution_count": 70,
   "metadata": {},
   "outputs": [],
   "source": [
    "from bs4 import BeautifulSoup as bs\n",
    "import requests\n",
    "url = 'http://sofifa.com/players?offset=0'"
   ]
  },
  {
   "cell_type": "code",
   "execution_count": 71,
   "metadata": {},
   "outputs": [],
   "source": [
    "def soup_maker(url):\n",
    "    r = requests.get(url)\n",
    "    markup = r.content\n",
    "    soup = bs(markup, 'lxml')\n",
    "    return soup"
   ]
  },
  {
   "cell_type": "code",
   "execution_count": 72,
   "metadata": {},
   "outputs": [],
   "source": [
    "x = soup_maker(url)"
   ]
  },
  {
   "cell_type": "code",
   "execution_count": 99,
   "metadata": {},
   "outputs": [],
   "source": [
    "def find_top_players(soup):\n",
    "    table = soup.find('table', {'class': 'table table-hover persist-area'})\n",
    "    tbody = table.find('tbody')\n",
    "    all_a = tbody.find_all('a', {'class': ''})\n",
    "    #print(all_a)\n",
    "    #for player in all_a:\n",
    "        #if player['href'][0:7] == '/player/':\n",
    "    #    print(player['href'][0:8])\n",
    "    #print(player['href'])\n",
    "    #print('Hello')\n",
    "    return(['http://sofifa.com' + player['href'] for player in all_a if player['href'][0:8] == '/player/'])"
   ]
  },
  {
   "cell_type": "code",
   "execution_count": 100,
   "metadata": {},
   "outputs": [],
   "source": [
    "h = find_top_players(x)"
   ]
  },
  {
   "cell_type": "code",
   "execution_count": 101,
   "metadata": {},
   "outputs": [
    {
     "data": {
      "text/plain": [
       "list"
      ]
     },
     "execution_count": 101,
     "metadata": {},
     "output_type": "execute_result"
    }
   ],
   "source": [
    "type(h)"
   ]
  },
  {
   "cell_type": "code",
   "execution_count": 102,
   "metadata": {},
   "outputs": [
    {
     "data": {
      "text/plain": [
       "['http://sofifa.com/player/158023',\n",
       " 'http://sofifa.com/player/20801',\n",
       " 'http://sofifa.com/player/190871',\n",
       " 'http://sofifa.com/player/176580',\n",
       " 'http://sofifa.com/player/167495',\n",
       " 'http://sofifa.com/player/193080',\n",
       " 'http://sofifa.com/player/192985',\n",
       " 'http://sofifa.com/player/188545',\n",
       " 'http://sofifa.com/player/183277',\n",
       " 'http://sofifa.com/player/182521',\n",
       " 'http://sofifa.com/player/178603',\n",
       " 'http://sofifa.com/player/167664',\n",
       " 'http://sofifa.com/player/155862',\n",
       " 'http://sofifa.com/player/211110',\n",
       " 'http://sofifa.com/player/200389',\n",
       " 'http://sofifa.com/player/192119',\n",
       " 'http://sofifa.com/player/177003',\n",
       " 'http://sofifa.com/player/168542',\n",
       " 'http://sofifa.com/player/153079',\n",
       " 'http://sofifa.com/player/138956',\n",
       " 'http://sofifa.com/player/1179',\n",
       " 'http://sofifa.com/player/215914',\n",
       " 'http://sofifa.com/player/202126',\n",
       " 'http://sofifa.com/player/195864',\n",
       " 'http://sofifa.com/player/194765',\n",
       " 'http://sofifa.com/player/190460',\n",
       " 'http://sofifa.com/player/189509',\n",
       " 'http://sofifa.com/player/184941',\n",
       " 'http://sofifa.com/player/182493',\n",
       " 'http://sofifa.com/player/179813',\n",
       " 'http://sofifa.com/player/173731',\n",
       " 'http://sofifa.com/player/167948',\n",
       " 'http://sofifa.com/player/162835',\n",
       " 'http://sofifa.com/player/209331',\n",
       " 'http://sofifa.com/player/201399',\n",
       " 'http://sofifa.com/player/199556',\n",
       " 'http://sofifa.com/player/198710',\n",
       " 'http://sofifa.com/player/198219',\n",
       " 'http://sofifa.com/player/192448',\n",
       " 'http://sofifa.com/player/189511',\n",
       " 'http://sofifa.com/player/189332',\n",
       " 'http://sofifa.com/player/189242',\n",
       " 'http://sofifa.com/player/188567',\n",
       " 'http://sofifa.com/player/183907',\n",
       " 'http://sofifa.com/player/176676',\n",
       " 'http://sofifa.com/player/176635',\n",
       " 'http://sofifa.com/player/175943',\n",
       " 'http://sofifa.com/player/171877',\n",
       " 'http://sofifa.com/player/164240',\n",
       " 'http://sofifa.com/player/152729',\n",
       " 'http://sofifa.com/player/41236',\n",
       " 'http://sofifa.com/player/9014',\n",
       " 'http://sofifa.com/player/41',\n",
       " 'http://sofifa.com/player/200145',\n",
       " 'http://sofifa.com/player/197781',\n",
       " 'http://sofifa.com/player/192505',\n",
       " 'http://sofifa.com/player/192387',\n",
       " 'http://sofifa.com/player/191043',\n",
       " 'http://sofifa.com/player/189596',\n",
       " 'http://sofifa.com/player/184432',\n",
       " 'http://sofifa.com/player/184344',\n",
       " 'http://sofifa.com/player/181872',\n",
       " 'http://sofifa.com/player/180206',\n",
       " 'http://sofifa.com/player/178518',\n",
       " 'http://sofifa.com/player/172871',\n",
       " 'http://sofifa.com/player/168651',\n",
       " 'http://sofifa.com/player/164169',\n",
       " 'http://sofifa.com/player/222492',\n",
       " 'http://sofifa.com/player/210257',\n",
       " 'http://sofifa.com/player/208418',\n",
       " 'http://sofifa.com/player/202652',\n",
       " 'http://sofifa.com/player/201942',\n",
       " 'http://sofifa.com/player/201535',\n",
       " 'http://sofifa.com/player/201024',\n",
       " 'http://sofifa.com/player/197445',\n",
       " 'http://sofifa.com/player/193747',\n",
       " 'http://sofifa.com/player/193041',\n",
       " 'http://sofifa.com/player/192774',\n",
       " 'http://sofifa.com/player/192563',\n",
       " 'http://sofifa.com/player/192366']"
      ]
     },
     "execution_count": 102,
     "metadata": {},
     "output_type": "execute_result"
    }
   ],
   "source": [
    "h"
   ]
  },
  {
   "cell_type": "code",
   "execution_count": 117,
   "metadata": {},
   "outputs": [],
   "source": [
    "from bs4 import BeautifulSoup as bs\n",
    "import requests\n",
    "import re\n",
    "\n",
    "url = 'http://sofifa.com/players?offset=0'\n",
    "\n",
    "\n",
    "fifa_stats = ['Crossing', 'Finishing', 'Heading Accuracy',\n",
    "              'Short Passing', 'Volleys', 'Dribbling', 'Curve',\n",
    "              'Free Kick Accuracy', 'Long Passing', 'Ball Control',\n",
    "              'Acceleration', 'Sprint Speed', 'Agility', 'Reactions',\n",
    "              'Balance', 'Shot Power', 'Jumping', 'Stamina', 'Strength',\n",
    "              'Long Shots', 'Aggression', 'Interceptions', 'Positioning',\n",
    "              'Vision', 'Penalties', 'Composure', 'Marking', 'Standing Tackle',\n",
    "              'Sliding Tackle', 'GK Diving', 'GK Handling', 'GK Kicking',\n",
    "              'GK Positioning', 'GK Reflexes']\n",
    "\n",
    "\n",
    "def soup_maker(url):\n",
    "    r = requests.get(url)\n",
    "    markup = r.content\n",
    "    soup = bs(markup, 'lxml')\n",
    "    return soup\n",
    "\n",
    "\n",
    "def find_top_players(soup):\n",
    "    final_details = {}\n",
    "    table = soup.find('table', {'class': 'table table-hover persist-area'})\n",
    "    tbody = table.find('tbody')\n",
    "    all_a = tbody.find_all('a')\n",
    "    #print(all_a)\n",
    "    for player in all_a:\n",
    "        #print(player['href'])\n",
    "        final_details['short_name'] = player.text\n",
    "        #print(final_details)\n",
    "        if player['href'][0:8] == '/player/':\n",
    "            final_details.update(player_all_details('http://sofifa.com' + player['href']))\n",
    "        #print(final_details)\n",
    "\n",
    "\n",
    "def find_player_info(soup):\n",
    "    player_data = {}\n",
    "    player_data['image'] = soup.find('img')['data-src']\n",
    "    player_data['full_name'] = soup.find('h1').text.split(' (')[0]\n",
    "    span = soup.find('span', attrs={'class': None}).text.strip()\n",
    "    dob = re.search('(\\(.*)\\)', span).group(0)\n",
    "    player_data['dob'] = dob.replace('(', '').replace(')', '')\n",
    "    infos = span.replace(dob + ' ', '').split(' ')\n",
    "    player_data['pref_pos'] = infos[:infos.index('Age')]\n",
    "    player_data['age'] = int(infos[infos.index('Age') + 1: -2][0])\n",
    "    player_data['height'] = int((infos[infos.index('Age') + 2: -1][0]).replace('cm', ''))\n",
    "    player_data['weight'] = int((infos[infos.index('Age') + 3:][0]).replace('kg', ''))\n",
    "    return(player_data)\n",
    "\n",
    "\n",
    "def find_player_stats(soup):\n",
    "    player_data = {}\n",
    "    info = re.findall('\\d+', soup.text)\n",
    "    player_data['rating'] = int(info[0])\n",
    "    player_data['potential'] = int(info[1])\n",
    "    player_data['value'] = int(info[2])\n",
    "    player_data['wage'] = int(info[3])\n",
    "    return(player_data)\n",
    "\n",
    "\n",
    "def find_player_secondary_info(soup):\n",
    "    player_data = {}\n",
    "    player_data['preff_foot'] = soup.find('label', text='Preferred Foot')\\\n",
    "        .parent.contents[2].strip('\\n ')\n",
    "    player_data['club'] = soup.find_all('ul')[1].find('a').text\n",
    "    player_data['club_pos'] = soup.find('label', text='Position')\\\n",
    "        .parent.find('span').text\n",
    "    player_data['club_jersey'] = soup.find('label', text='Jersey number')\\\n",
    "        .parent.contents[2].strip('\\n ')\n",
    "    if soup.find('label', text='Joined'):\n",
    "        player_data['club_joined'] = soup.find('label', text='Joined')\\\n",
    "            .parent.contents[2].strip('\\n ')\n",
    "    player_data['contract_valid'] = soup.find(\n",
    "        'label', text='Contract valid until')\\\n",
    "        .parent.contents[2].strip('\\n ')\n",
    "    if len(soup.find_all('ul')) > 2:\n",
    "        player_data['country'] = soup.find_all('ul')[2].find('a').text\n",
    "    return(player_data)\n",
    "\n",
    "\n",
    "def find_fifa_info(soup):\n",
    "    player_data = {}\n",
    "    divs_without_skill = soup[1].find_all('div', {'class': 'col-3'})[:3]\n",
    "    more_lis = [div.find_all('li') for div in divs_without_skill]\n",
    "    lis = soup[0].find_all('li') + more_lis[0]\n",
    "    for li in lis:\n",
    "        for stats in fifa_stats:\n",
    "            if stats in li.text:\n",
    "                player_data[stats.replace(' ', '_').lower()] = int(\n",
    "                    (li.text.split(' ')[0]).replace('\\n', ''))\n",
    "    traits = soup[1].find('h4', text='Traits')\n",
    "    if traits:\n",
    "        player_data['traits'] = [li.text.replace('\\xa0', '') for li in\n",
    "            traits.parent.next_sibling.next_sibling.find_all('li')]\n",
    "    specialities = soup[1].find('h4', text='Specialities')\n",
    "    if specialities:\n",
    "        player_data['specialities'] = [li.text.replace('\\xa0', '') for li in\n",
    "            specialities.parent.next_sibling.next_sibling.find_all('li')]\n",
    "    return(player_data)\n",
    "\n",
    "\n",
    "def player_all_details(url):\n",
    "    all_details = {}\n",
    "    #print(url)\n",
    "    soup = soup_maker(url)\n",
    "    player_info = soup.find('div', {'class': 'player'})\n",
    "    all_details.update(find_player_info(player_info))\n",
    "    player_stats = soup.find('div', {'class': 'stats'})\n",
    "    all_details.update(find_player_stats(player_stats))\n",
    "    secondary_info = soup.find('div', {'class': 'teams'})\n",
    "    all_details.update(find_player_secondary_info(secondary_info))\n",
    "    fifa_info = soup.find_all('div', {'class': 'columns mb-20'})\n",
    "    all_details.update(find_fifa_info(fifa_info))\n",
    "    return(all_details)"
   ]
  },
  {
   "cell_type": "code",
   "execution_count": 118,
   "metadata": {},
   "outputs": [
    {
     "name": "stdout",
     "output_type": "stream",
     "text": [
      "{'short_name': ''}\n"
     ]
    },
    {
     "ename": "ValueError",
     "evalue": "'Age' is not in list",
     "output_type": "error",
     "traceback": [
      "\u001b[0;31m---------------------------------------------------------------------------\u001b[0m",
      "\u001b[0;31mValueError\u001b[0m                                Traceback (most recent call last)",
      "\u001b[0;32m<ipython-input-118-0d92f62baa15>\u001b[0m in \u001b[0;36m<module>\u001b[0;34m()\u001b[0m\n\u001b[1;32m      1\u001b[0m \u001b[0msoup\u001b[0m \u001b[0;34m=\u001b[0m \u001b[0msoup_maker\u001b[0m\u001b[0;34m(\u001b[0m\u001b[0murl\u001b[0m\u001b[0;34m)\u001b[0m\u001b[0;34m\u001b[0m\u001b[0m\n\u001b[0;32m----> 2\u001b[0;31m \u001b[0mfind_top_players\u001b[0m\u001b[0;34m(\u001b[0m\u001b[0msoup\u001b[0m\u001b[0;34m)\u001b[0m\u001b[0;34m\u001b[0m\u001b[0m\n\u001b[0m",
      "\u001b[0;32m<ipython-input-117-69f369b4f1e3>\u001b[0m in \u001b[0;36mfind_top_players\u001b[0;34m(soup)\u001b[0m\n\u001b[1;32m     35\u001b[0m         \u001b[0;31m#print(final_details)\u001b[0m\u001b[0;34m\u001b[0m\u001b[0;34m\u001b[0m\u001b[0m\n\u001b[1;32m     36\u001b[0m         \u001b[0;32mif\u001b[0m \u001b[0mplayer\u001b[0m\u001b[0;34m[\u001b[0m\u001b[0;34m'href'\u001b[0m\u001b[0;34m]\u001b[0m\u001b[0;34m[\u001b[0m\u001b[0;36m0\u001b[0m\u001b[0;34m:\u001b[0m\u001b[0;36m8\u001b[0m\u001b[0;34m]\u001b[0m \u001b[0;34m==\u001b[0m \u001b[0;34m'/player/'\u001b[0m\u001b[0;34m:\u001b[0m\u001b[0;34m\u001b[0m\u001b[0m\n\u001b[0;32m---> 37\u001b[0;31m             \u001b[0mfinal_details\u001b[0m\u001b[0;34m.\u001b[0m\u001b[0mupdate\u001b[0m\u001b[0;34m(\u001b[0m\u001b[0mplayer_all_details\u001b[0m\u001b[0;34m(\u001b[0m\u001b[0;34m'http://sofifa.com'\u001b[0m \u001b[0;34m+\u001b[0m \u001b[0mplayer\u001b[0m\u001b[0;34m[\u001b[0m\u001b[0;34m'href'\u001b[0m\u001b[0;34m]\u001b[0m\u001b[0;34m)\u001b[0m\u001b[0;34m)\u001b[0m\u001b[0;34m\u001b[0m\u001b[0m\n\u001b[0m\u001b[1;32m     38\u001b[0m         \u001b[0mprint\u001b[0m\u001b[0;34m(\u001b[0m\u001b[0mfinal_details\u001b[0m\u001b[0;34m)\u001b[0m\u001b[0;34m\u001b[0m\u001b[0m\n\u001b[1;32m     39\u001b[0m \u001b[0;34m\u001b[0m\u001b[0m\n",
      "\u001b[0;32m<ipython-input-117-69f369b4f1e3>\u001b[0m in \u001b[0;36mplayer_all_details\u001b[0;34m(url)\u001b[0m\n\u001b[1;32m    106\u001b[0m     \u001b[0msoup\u001b[0m \u001b[0;34m=\u001b[0m \u001b[0msoup_maker\u001b[0m\u001b[0;34m(\u001b[0m\u001b[0murl\u001b[0m\u001b[0;34m)\u001b[0m\u001b[0;34m\u001b[0m\u001b[0m\n\u001b[1;32m    107\u001b[0m     \u001b[0mplayer_info\u001b[0m \u001b[0;34m=\u001b[0m \u001b[0msoup\u001b[0m\u001b[0;34m.\u001b[0m\u001b[0mfind\u001b[0m\u001b[0;34m(\u001b[0m\u001b[0;34m'div'\u001b[0m\u001b[0;34m,\u001b[0m \u001b[0;34m{\u001b[0m\u001b[0;34m'class'\u001b[0m\u001b[0;34m:\u001b[0m \u001b[0;34m'player'\u001b[0m\u001b[0;34m}\u001b[0m\u001b[0;34m)\u001b[0m\u001b[0;34m\u001b[0m\u001b[0m\n\u001b[0;32m--> 108\u001b[0;31m     \u001b[0mall_details\u001b[0m\u001b[0;34m.\u001b[0m\u001b[0mupdate\u001b[0m\u001b[0;34m(\u001b[0m\u001b[0mfind_player_info\u001b[0m\u001b[0;34m(\u001b[0m\u001b[0mplayer_info\u001b[0m\u001b[0;34m)\u001b[0m\u001b[0;34m)\u001b[0m\u001b[0;34m\u001b[0m\u001b[0m\n\u001b[0m\u001b[1;32m    109\u001b[0m     \u001b[0mplayer_stats\u001b[0m \u001b[0;34m=\u001b[0m \u001b[0msoup\u001b[0m\u001b[0;34m.\u001b[0m\u001b[0mfind\u001b[0m\u001b[0;34m(\u001b[0m\u001b[0;34m'div'\u001b[0m\u001b[0;34m,\u001b[0m \u001b[0;34m{\u001b[0m\u001b[0;34m'class'\u001b[0m\u001b[0;34m:\u001b[0m \u001b[0;34m'stats'\u001b[0m\u001b[0;34m}\u001b[0m\u001b[0;34m)\u001b[0m\u001b[0;34m\u001b[0m\u001b[0m\n\u001b[1;32m    110\u001b[0m     \u001b[0mall_details\u001b[0m\u001b[0;34m.\u001b[0m\u001b[0mupdate\u001b[0m\u001b[0;34m(\u001b[0m\u001b[0mfind_player_stats\u001b[0m\u001b[0;34m(\u001b[0m\u001b[0mplayer_stats\u001b[0m\u001b[0;34m)\u001b[0m\u001b[0;34m)\u001b[0m\u001b[0;34m\u001b[0m\u001b[0m\n",
      "\u001b[0;32m<ipython-input-117-69f369b4f1e3>\u001b[0m in \u001b[0;36mfind_player_info\u001b[0;34m(soup)\u001b[0m\n\u001b[1;32m     47\u001b[0m     \u001b[0mplayer_data\u001b[0m\u001b[0;34m[\u001b[0m\u001b[0;34m'dob'\u001b[0m\u001b[0;34m]\u001b[0m \u001b[0;34m=\u001b[0m \u001b[0mdob\u001b[0m\u001b[0;34m.\u001b[0m\u001b[0mreplace\u001b[0m\u001b[0;34m(\u001b[0m\u001b[0;34m'('\u001b[0m\u001b[0;34m,\u001b[0m \u001b[0;34m''\u001b[0m\u001b[0;34m)\u001b[0m\u001b[0;34m.\u001b[0m\u001b[0mreplace\u001b[0m\u001b[0;34m(\u001b[0m\u001b[0;34m')'\u001b[0m\u001b[0;34m,\u001b[0m \u001b[0;34m''\u001b[0m\u001b[0;34m)\u001b[0m\u001b[0;34m\u001b[0m\u001b[0m\n\u001b[1;32m     48\u001b[0m     \u001b[0minfos\u001b[0m \u001b[0;34m=\u001b[0m \u001b[0mspan\u001b[0m\u001b[0;34m.\u001b[0m\u001b[0mreplace\u001b[0m\u001b[0;34m(\u001b[0m\u001b[0mdob\u001b[0m \u001b[0;34m+\u001b[0m \u001b[0;34m' '\u001b[0m\u001b[0;34m,\u001b[0m \u001b[0;34m''\u001b[0m\u001b[0;34m)\u001b[0m\u001b[0;34m.\u001b[0m\u001b[0msplit\u001b[0m\u001b[0;34m(\u001b[0m\u001b[0;34m' '\u001b[0m\u001b[0;34m)\u001b[0m\u001b[0;34m\u001b[0m\u001b[0m\n\u001b[0;32m---> 49\u001b[0;31m     \u001b[0mplayer_data\u001b[0m\u001b[0;34m[\u001b[0m\u001b[0;34m'pref_pos'\u001b[0m\u001b[0;34m]\u001b[0m \u001b[0;34m=\u001b[0m \u001b[0minfos\u001b[0m\u001b[0;34m[\u001b[0m\u001b[0;34m:\u001b[0m\u001b[0minfos\u001b[0m\u001b[0;34m.\u001b[0m\u001b[0mindex\u001b[0m\u001b[0;34m(\u001b[0m\u001b[0;34m'Age'\u001b[0m\u001b[0;34m)\u001b[0m\u001b[0;34m]\u001b[0m\u001b[0;34m\u001b[0m\u001b[0m\n\u001b[0m\u001b[1;32m     50\u001b[0m     \u001b[0mplayer_data\u001b[0m\u001b[0;34m[\u001b[0m\u001b[0;34m'age'\u001b[0m\u001b[0;34m]\u001b[0m \u001b[0;34m=\u001b[0m \u001b[0mint\u001b[0m\u001b[0;34m(\u001b[0m\u001b[0minfos\u001b[0m\u001b[0;34m[\u001b[0m\u001b[0minfos\u001b[0m\u001b[0;34m.\u001b[0m\u001b[0mindex\u001b[0m\u001b[0;34m(\u001b[0m\u001b[0;34m'Age'\u001b[0m\u001b[0;34m)\u001b[0m \u001b[0;34m+\u001b[0m \u001b[0;36m1\u001b[0m\u001b[0;34m:\u001b[0m \u001b[0;34m-\u001b[0m\u001b[0;36m2\u001b[0m\u001b[0;34m]\u001b[0m\u001b[0;34m[\u001b[0m\u001b[0;36m0\u001b[0m\u001b[0;34m]\u001b[0m\u001b[0;34m)\u001b[0m\u001b[0;34m\u001b[0m\u001b[0m\n\u001b[1;32m     51\u001b[0m     \u001b[0mplayer_data\u001b[0m\u001b[0;34m[\u001b[0m\u001b[0;34m'height'\u001b[0m\u001b[0;34m]\u001b[0m \u001b[0;34m=\u001b[0m \u001b[0mint\u001b[0m\u001b[0;34m(\u001b[0m\u001b[0;34m(\u001b[0m\u001b[0minfos\u001b[0m\u001b[0;34m[\u001b[0m\u001b[0minfos\u001b[0m\u001b[0;34m.\u001b[0m\u001b[0mindex\u001b[0m\u001b[0;34m(\u001b[0m\u001b[0;34m'Age'\u001b[0m\u001b[0;34m)\u001b[0m \u001b[0;34m+\u001b[0m \u001b[0;36m2\u001b[0m\u001b[0;34m:\u001b[0m \u001b[0;34m-\u001b[0m\u001b[0;36m1\u001b[0m\u001b[0;34m]\u001b[0m\u001b[0;34m[\u001b[0m\u001b[0;36m0\u001b[0m\u001b[0;34m]\u001b[0m\u001b[0;34m)\u001b[0m\u001b[0;34m.\u001b[0m\u001b[0mreplace\u001b[0m\u001b[0;34m(\u001b[0m\u001b[0;34m'cm'\u001b[0m\u001b[0;34m,\u001b[0m \u001b[0;34m''\u001b[0m\u001b[0;34m)\u001b[0m\u001b[0;34m)\u001b[0m\u001b[0;34m\u001b[0m\u001b[0m\n",
      "\u001b[0;31mValueError\u001b[0m: 'Age' is not in list"
     ]
    }
   ],
   "source": [
    "soup = soup_maker(url)\n",
    "find_top_players(soup)"
   ]
  },
  {
   "cell_type": "code",
   "execution_count": null,
   "metadata": {},
   "outputs": [],
   "source": []
  }
 ],
 "metadata": {
  "kernelspec": {
   "display_name": "Python 3",
   "language": "python",
   "name": "python3"
  },
  "language_info": {
   "codemirror_mode": {
    "name": "ipython",
    "version": 3
   },
   "file_extension": ".py",
   "mimetype": "text/x-python",
   "name": "python",
   "nbconvert_exporter": "python",
   "pygments_lexer": "ipython3",
   "version": "3.6.4"
  }
 },
 "nbformat": 4,
 "nbformat_minor": 2
}
